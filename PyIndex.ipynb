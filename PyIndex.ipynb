{
 "cells": [
  {
   "cell_type": "code",
   "execution_count": 2,
   "metadata": {
    "collapsed": false
   },
   "outputs": [],
   "source": [
    "import whoosh, glob, time, pickle\n",
    "import whoosh.fields as wf\n",
    "from whoosh.qparser import QueryParser\n",
    "import src as swhoosh"
   ]
  },
  {
   "cell_type": "code",
   "execution_count": 3,
   "metadata": {
    "collapsed": false
   },
   "outputs": [],
   "source": [
    "class simple_schema(wf.SchemaClass):\n",
    "    doc = wf.TEXT(analyzer=whoosh.analysis.StandardAnalyzer())\n",
    "    filepath = wf.ID(unique=True, stored=True)"
   ]
  },
  {
   "cell_type": "markdown",
   "metadata": {},
   "source": [
    "### Data\n",
    "\n",
    "Both datasets are text collections from [this site](http://dhresourcesforprojectbuilding.pbworks.com/w/page/69244469/Data%20Collections%20and%20Datasets). \n",
    "\n",
    "- TCP-ECCO (170mb uncompressed) can be downloaded [here](https://github.com/Early-Modern-OCR/TCP-ECCO-texts/archive/master.zip)\n",
    "- Lincoln (700kb uncompressed) can be downloaded [here](http://oldsite.english.ucsb.edu/faculty/ayliu/unlocked/lincoln/lincoln-speeches-and-writings.zip)"
   ]
  },
  {
   "cell_type": "code",
   "execution_count": 3,
   "metadata": {
    "collapsed": true
   },
   "outputs": [],
   "source": [
    "def get_lincoln():\n",
    "    for filepath in sorted(glob.glob('Lincoln/*.txt')):\n",
    "        with open(filepath, 'r', encoding='latin') as f:\n",
    "            doc = f.read()\n",
    "        yield {'filepath': filepath, 'doc': doc}\n",
    "        \n",
    "def get_TCP():\n",
    "    for filepath in sorted(glob.glob('TCP-ECCO/*.txt')):\n",
    "        with open(filepath, 'r', encoding='latin') as f:\n",
    "            doc = f.read()\n",
    "        yield {'filepath': filepath, 'doc': doc}"
   ]
  },
  {
   "cell_type": "markdown",
   "metadata": {},
   "source": [
    "### Intialize swhoosh index"
   ]
  },
  {
   "cell_type": "code",
   "execution_count": 4,
   "metadata": {
    "collapsed": false
   },
   "outputs": [],
   "source": [
    "s = swhoosh.Index('randomIdx/randomIdx', simple_schema(), reset=True)\n",
    "s.load()"
   ]
  },
  {
   "cell_type": "markdown",
   "metadata": {},
   "source": [
    "### Add documents to swhoosh index"
   ]
  },
  {
   "cell_type": "code",
   "execution_count": 5,
   "metadata": {
    "collapsed": false
   },
   "outputs": [
    {
     "name": "stdout",
     "output_type": "stream",
     "text": [
      "TIME: 0.3167388439178467\n"
     ]
    }
   ],
   "source": [
    "t = time.time()\n",
    "s.add_documents(get_lincoln())\n",
    "print(\"TIME:\", time.time() - t)"
   ]
  },
  {
   "cell_type": "markdown",
   "metadata": {},
   "source": [
    "### Save and close, then reload swoosh index\n",
    "\n",
    "Note that the index MUST be saved -- it does not autosave!"
   ]
  },
  {
   "cell_type": "code",
   "execution_count": 6,
   "metadata": {
    "collapsed": false
   },
   "outputs": [],
   "source": [
    "s.save_and_close()\n",
    "\n",
    "with open('randomIdx/randomIdx.manager', 'rb') as f:\n",
    "    s = pickle.load(f)\n",
    "    s.load()"
   ]
  },
  {
   "cell_type": "markdown",
   "metadata": {},
   "source": [
    "### Wrap Index in an IndexReader and get statistics needed for BM25"
   ]
  },
  {
   "cell_type": "code",
   "execution_count": 7,
   "metadata": {
    "collapsed": false
   },
   "outputs": [
    {
     "name": "stdout",
     "output_type": "stream",
     "text": [
      "84\n",
      "12\n",
      "218\n",
      "583.2619047619048\n"
     ]
    }
   ],
   "source": [
    "r = s.reader()\n",
    "\n",
    "print(r.doc_count())\n",
    "print(r.doc_frequency('doc',b'lincoln'))\n",
    "print(r.doc_field_length(21, 'doc')) \n",
    "print(r.avg_field_length('doc'))"
   ]
  },
  {
   "cell_type": "markdown",
   "metadata": {},
   "source": [
    "### Get term info and postings for 'lincoln'"
   ]
  },
  {
   "cell_type": "code",
   "execution_count": 8,
   "metadata": {
    "collapsed": false
   },
   "outputs": [
    {
     "data": {
      "text/plain": [
       "(13, 12, 2, 70)"
      ]
     },
     "execution_count": 8,
     "metadata": {},
     "output_type": "execute_result"
    }
   ],
   "source": [
    "# returns (overall frequency, num docs, start loc in postings file, postings size)\n",
    "s._idx['doc'].terminfo(b'lincoln')"
   ]
  },
  {
   "cell_type": "code",
   "execution_count": 9,
   "metadata": {
    "collapsed": false
   },
   "outputs": [
    {
     "data": {
      "text/plain": [
       "[array('I', [311]),\n",
       " array('I', [217]),\n",
       " array('I', [872]),\n",
       " array('I', [4746]),\n",
       " array('I', [96]),\n",
       " array('I', [46]),\n",
       " array('I', [76]),\n",
       " array('I', [32]),\n",
       " array('I', [157, 438]),\n",
       " array('I', [93]),\n",
       " array('I', [75]),\n",
       " array('I', [69])]"
      ]
     },
     "execution_count": 9,
     "metadata": {},
     "output_type": "execute_result"
    }
   ],
   "source": [
    "[swhoosh.postings.load2(a[2], a[1]) for a in s._idx['doc']._postings(b'lincoln')]"
   ]
  },
  {
   "cell_type": "code",
   "execution_count": 10,
   "metadata": {
    "collapsed": false
   },
   "outputs": [
    {
     "data": {
      "text/plain": [
       "[(0, 1, b'\\xb7\\x02'),\n",
       " (21, 1, b'\\xd9\\x01'),\n",
       " (22, 1, b'\\xe8\\x06'),\n",
       " (23, 1, b'\\x8a%'),\n",
       " (28, 1, b'`'),\n",
       " (37, 1, b'.'),\n",
       " (40, 1, b'L'),\n",
       " (56, 1, b' '),\n",
       " (60, 2, b'\\x9d\\x01\\x99\\x02'),\n",
       " (61, 1, b']'),\n",
       " (78, 1, b'K'),\n",
       " (81, 1, b'E')]"
      ]
     },
     "execution_count": 10,
     "metadata": {},
     "output_type": "execute_result"
    }
   ],
   "source": [
    "# what the postings look like: (docId, frequency, positions)\n",
    "s._idx['doc']._postings(b'lincoln')"
   ]
  },
  {
   "cell_type": "markdown",
   "metadata": {},
   "source": [
    "### Run a BM25 search with Whoosh API"
   ]
  },
  {
   "cell_type": "code",
   "execution_count": 11,
   "metadata": {
    "collapsed": false
   },
   "outputs": [
    {
     "name": "stdout",
     "output_type": "stream",
     "text": [
      "<Top 10 Results for Term('doc', 'lincoln') runtime=0.0001484961248934269>\n",
      "4.477876  |  Lincoln/82-letter-to-thurlow-weed-1865.txt\n",
      "4.448624  |  Lincoln/41-letter-to-george-ashmun-accepting-nomination-for-presidency-1860.txt\n",
      "4.448624  |  Lincoln/79-letter-to-mrs-bixley-of-boston-nov-21-1864.txt\n",
      "4.363118  |  Lincoln/62-letter-to-general-grant-july-13-1863.txt\n",
      "4.224235  |  Lincoln/61-emancipation-proclamation-jan-1-1863.txt\n",
      "3.934575  |  Lincoln/57-from-letter-to-august-belmont-1862.txt\n",
      "3.852952  |  Lincoln/22-from-letter-to-george-robertson-1855.txt\n",
      "3.539239  |  Lincoln/01-first-public-speech-1832.txt\n",
      "3.296530  |  Lincoln/38-from-letter-to-jw-fell-1859.txt\n",
      "2.383225  |  Lincoln/23-extracts-from-letter-to-joshua-f-speed-1855.txt\n"
     ]
    }
   ],
   "source": [
    "qp = QueryParser(\"doc\", schema=s._schema)\n",
    "q = qp.parse(\"lincoln\")\n",
    "\n",
    "with s.searcher() as searcher:\n",
    "    results = searcher.search(q)\n",
    "    print(results)\n",
    "    for hit in results:\n",
    "        print('{:f}'.format(hit.score), ' | ', hit['filepath'])"
   ]
  },
  {
   "cell_type": "markdown",
   "metadata": {},
   "source": [
    "### Compare results to Whoosh"
   ]
  },
  {
   "cell_type": "code",
   "execution_count": 12,
   "metadata": {
    "collapsed": false
   },
   "outputs": [],
   "source": [
    "def make_clean_index(ix_dirname, paths, procs=1):\n",
    "    ix = whoosh.index.create_in(ix_dirname, schema=simple_schema())\n",
    "    writer = ix.writer(procs=procs)\n",
    "\n",
    "    for filepath in paths:\n",
    "        add_doc(writer, filepath)\n",
    "\n",
    "    writer.commit()\n",
    "    \n",
    "    return ix\n",
    "\n",
    "def add_doc(writer, filepath):\n",
    "    with open(filepath, 'rb') as f:\n",
    "        text = f.read().decode('latin')\n",
    "    writer.add_document(doc=text, filepath=filepath)"
   ]
  },
  {
   "cell_type": "code",
   "execution_count": 13,
   "metadata": {
    "collapsed": false
   },
   "outputs": [
    {
     "name": "stdout",
     "output_type": "stream",
     "text": [
      "TIME: 1.0337421894073486\n"
     ]
    }
   ],
   "source": [
    "t = time.time()\n",
    "ix = make_clean_index('wind', sorted(glob.glob('Lincoln/*.txt')))\n",
    "print(\"TIME:\", time.time() - t)"
   ]
  },
  {
   "cell_type": "code",
   "execution_count": 14,
   "metadata": {
    "collapsed": false
   },
   "outputs": [
    {
     "name": "stdout",
     "output_type": "stream",
     "text": [
      "<Top 10 Results for Term('doc', 'lincoln') runtime=0.000461772084236145>\n",
      "4.468083  |  Lincoln/82-letter-to-thurlow-weed-1865.txt\n",
      "4.434141  |  Lincoln/41-letter-to-george-ashmun-accepting-nomination-for-presidency-1860.txt\n",
      "4.434141  |  Lincoln/79-letter-to-mrs-bixley-of-boston-nov-21-1864.txt\n",
      "4.349186  |  Lincoln/62-letter-to-general-grant-july-13-1863.txt\n",
      "4.191734  |  Lincoln/61-emancipation-proclamation-jan-1-1863.txt\n",
      "3.934575  |  Lincoln/57-from-letter-to-august-belmont-1862.txt\n",
      "3.849322  |  Lincoln/22-from-letter-to-george-robertson-1855.txt\n",
      "3.536176  |  Lincoln/01-first-public-speech-1832.txt\n",
      "3.291220  |  Lincoln/38-from-letter-to-jw-fell-1859.txt\n",
      "2.381836  |  Lincoln/23-extracts-from-letter-to-joshua-f-speed-1855.txt\n"
     ]
    }
   ],
   "source": [
    "with ix.searcher() as searcher:\n",
    "    results = searcher.search(q)\n",
    "    print(results)\n",
    "    for hit in results:\n",
    "        print('{:f}'.format(hit.score), ' | ', hit['filepath'])"
   ]
  },
  {
   "cell_type": "markdown",
   "metadata": {},
   "source": [
    "Note: the BM25 scores returned by whoosh's default settings are a tiny bit smaller because the default whoosh reader adds 1 to the current document length for some reason (I don't think this is correct). "
   ]
  },
  {
   "cell_type": "markdown",
   "metadata": {},
   "source": [
    "## Indexing a bigger collection"
   ]
  },
  {
   "cell_type": "code",
   "execution_count": 15,
   "metadata": {
    "collapsed": true
   },
   "outputs": [],
   "source": [
    "s = swhoosh.Index('randomIdx2/randomIdx2', simple_schema(), reset=True)\n",
    "s.load()"
   ]
  },
  {
   "cell_type": "code",
   "execution_count": 16,
   "metadata": {
    "collapsed": false
   },
   "outputs": [
    {
     "name": "stdout",
     "output_type": "stream",
     "text": [
      "TIME: 66.6019983291626\n"
     ]
    }
   ],
   "source": [
    "t = time.time()\n",
    "s.add_documents(get_TCP())\n",
    "print(\"TIME:\", time.time() - t)"
   ]
  },
  {
   "cell_type": "markdown",
   "metadata": {},
   "source": [
    "And repeating with multiprocessing enabled:"
   ]
  },
  {
   "cell_type": "code",
   "execution_count": 17,
   "metadata": {
    "collapsed": true
   },
   "outputs": [],
   "source": [
    "s = swhoosh.Index('randomIdx2/randomIdx2', simple_schema(), reset=True)\n",
    "s.load()"
   ]
  },
  {
   "cell_type": "code",
   "execution_count": 18,
   "metadata": {
    "collapsed": false
   },
   "outputs": [
    {
     "name": "stdout",
     "output_type": "stream",
     "text": [
      "TIME: 27.684925317764282\n"
     ]
    }
   ],
   "source": [
    "t = time.time()\n",
    "s.add_documents_multiprocessing(get_TCP(), num_procs=4)\n",
    "print(\"TIME:\", time.time() - t)"
   ]
  },
  {
   "cell_type": "code",
   "execution_count": 19,
   "metadata": {
    "collapsed": true
   },
   "outputs": [],
   "source": [
    "s.save()"
   ]
  },
  {
   "cell_type": "markdown",
   "metadata": {},
   "source": [
    "Comparing to whoosh default:"
   ]
  },
  {
   "cell_type": "code",
   "execution_count": 19,
   "metadata": {
    "collapsed": false
   },
   "outputs": [
    {
     "name": "stdout",
     "output_type": "stream",
     "text": [
      "TIME: 175.10155200958252\n"
     ]
    }
   ],
   "source": [
    "t = time.time()\n",
    "ix = make_clean_index('wind2', sorted(glob.glob('TCP-ECCO/*.txt')))\n",
    "print(\"TIME:\", time.time() - t)"
   ]
  },
  {
   "cell_type": "markdown",
   "metadata": {},
   "source": [
    "And to whoosh with multiprocessing enabled:"
   ]
  },
  {
   "cell_type": "code",
   "execution_count": 20,
   "metadata": {
    "collapsed": false
   },
   "outputs": [
    {
     "name": "stdout",
     "output_type": "stream",
     "text": [
      "TIME: 147.75940346717834\n"
     ]
    }
   ],
   "source": [
    "t = time.time()\n",
    "ix = make_clean_index('wind2', sorted(glob.glob('TCP-ECCO/*.txt')), procs=4)\n",
    "print(\"TIME:\", time.time() - t)"
   ]
  },
  {
   "cell_type": "markdown",
   "metadata": {},
   "source": [
    "Again, the matcher results are the same:"
   ]
  },
  {
   "cell_type": "code",
   "execution_count": 21,
   "metadata": {
    "collapsed": false
   },
   "outputs": [
    {
     "name": "stdout",
     "output_type": "stream",
     "text": [
      "<Top 10 Results for Term('doc', 'lincoln') runtime=0.000666104257106781>\n",
      "7.649273  |  TCP-ECCO/K014182.000.txt\n",
      "7.340711  |  TCP-ECCO/K045058.000.txt\n",
      "7.238742  |  TCP-ECCO/K020979.000.txt\n",
      "7.001680  |  TCP-ECCO/K014363.000.txt\n",
      "6.953463  |  TCP-ECCO/K023186.000.txt\n",
      "6.825768  |  TCP-ECCO/K029698.000.txt\n",
      "6.477195  |  TCP-ECCO/K047797.000.txt\n",
      "6.400992  |  TCP-ECCO/K023195.000.txt\n",
      "6.331053  |  TCP-ECCO/K021268.000.txt\n",
      "6.239490  |  TCP-ECCO/K054680.002.txt\n",
      "\n",
      "<Top 10 Results for Term('doc', 'lincoln') runtime=0.0009060436859726906>\n",
      "7.646144  |  TCP-ECCO/K014182.000.txt\n",
      "7.350743  |  TCP-ECCO/K045058.000.txt\n",
      "7.237419  |  TCP-ECCO/K020979.000.txt\n",
      "6.993126  |  TCP-ECCO/K014363.000.txt\n",
      "6.949495  |  TCP-ECCO/K023186.000.txt\n",
      "6.832681  |  TCP-ECCO/K029698.000.txt\n",
      "6.481719  |  TCP-ECCO/K047797.000.txt\n",
      "6.402560  |  TCP-ECCO/K023195.000.txt\n",
      "6.335115  |  TCP-ECCO/K021268.000.txt\n",
      "6.241638  |  TCP-ECCO/K054680.002.txt\n"
     ]
    }
   ],
   "source": [
    "with s.searcher() as searcher:\n",
    "    results = searcher.search(q)\n",
    "    print(results)\n",
    "    for hit in results:\n",
    "        print('{:f}'.format(hit.score), ' | ', hit['filepath'])\n",
    "\n",
    "print('')\n",
    "\n",
    "with ix.searcher() as searcher:\n",
    "    results = searcher.search(q)\n",
    "    print(results)\n",
    "    for hit in results:\n",
    "        print('{:f}'.format(hit.score), ' | ', hit['filepath'])"
   ]
  },
  {
   "cell_type": "markdown",
   "metadata": {},
   "source": [
    "## Query Performance (BM25)\n",
    "\n",
    "To benchmark this, we extrac token's from one of lincoln's speechs (not in TCP-ECCO), and select queries at random from the resulting ~5000 tokens."
   ]
  },
  {
   "cell_type": "code",
   "execution_count": 4,
   "metadata": {
    "collapsed": false
   },
   "outputs": [],
   "source": [
    "with open('randomIdx2/randomIdx2.manager', 'rb') as f:\n",
    "    s = pickle.load(f)\n",
    "    s.load()"
   ]
  },
  {
   "cell_type": "code",
   "execution_count": 5,
   "metadata": {
    "collapsed": true
   },
   "outputs": [],
   "source": [
    "ix = whoosh.index.open_dir('wind2')"
   ]
  },
  {
   "cell_type": "code",
   "execution_count": 16,
   "metadata": {
    "collapsed": false
   },
   "outputs": [
    {
     "name": "stdout",
     "output_type": "stream",
     "text": [
      "Length of query vocab: 4810\n"
     ]
    }
   ],
   "source": [
    "import numpy as np\n",
    "\n",
    "s1 = s.searcher()\n",
    "s2 = ix.searcher()\n",
    "qp = QueryParser(\"doc\", schema=s._schema)\n",
    "\n",
    "with open('Lincoln/24-speech-1856.txt', 'r', encoding='latin') as f:\n",
    "    data = f.read()\n",
    "\n",
    "query_vocab = [t.text for t in s._schema['doc'].analyzer(data)]\n",
    "print('Length of query vocab:',len(query_vocab))\n",
    "\n",
    "def random_n_query(n):\n",
    "    \"\"\"Generates a random query of length n\"\"\"\n",
    "    return ' '.join(np.random.choice(query_vocab, size=n))\n",
    "\n",
    "def benchmark_n_query(n, trials):\n",
    "    t_swhoosh, t_whoosh = 0, 0 \n",
    "    for i in range(trials):\n",
    "        q = qp.parse(random_n_query(n))\n",
    "        t = time.time()\n",
    "        results = s1.search(q)\n",
    "        t_swhoosh += time.time() - t\n",
    "        t = time.time()\n",
    "        results = s2.search(q) \n",
    "        t_whoosh += time.time() - t\n",
    "    print('- Swhoosh time per query:', \"{:.2f}\".format(t_swhoosh / trials * 1000), \"ms\")\n",
    "    print('- Whoosh time per query:', \"{:.2f}\".format(t_whoosh / trials * 1000), \"ms\")\n",
    "    return t_swhoosh/trials, t_whoosh/trials"
   ]
  },
  {
   "cell_type": "markdown",
   "metadata": {},
   "source": [
    "#### 3 word queries"
   ]
  },
  {
   "cell_type": "code",
   "execution_count": 17,
   "metadata": {
    "collapsed": false
   },
   "outputs": [
    {
     "name": "stdout",
     "output_type": "stream",
     "text": [
      "- Swhoosh time per query: 3.83 ms\n",
      "- Whoosh time per query: 9.07 ms\n",
      "\n",
      "Swhoosh was 58% percent faster.\n"
     ]
    }
   ],
   "source": [
    "x, y = benchmark_n_query(3, 100)\n",
    "print('\\nSwhoosh was', \"{0:.0f}%\".format(100*(y-x)/y), 'percent faster.')"
   ]
  },
  {
   "cell_type": "markdown",
   "metadata": {},
   "source": [
    "#### 6 word queries"
   ]
  },
  {
   "cell_type": "code",
   "execution_count": 18,
   "metadata": {
    "collapsed": false
   },
   "outputs": [
    {
     "name": "stdout",
     "output_type": "stream",
     "text": [
      "- Swhoosh time per query: 5.54 ms\n",
      "- Whoosh time per query: 14.36 ms\n",
      "\n",
      "Swhoosh was 61% percent faster.\n"
     ]
    }
   ],
   "source": [
    "x, y = benchmark_n_query(6, 100)\n",
    "print('\\nSwhoosh was', \"{0:.0f}%\".format(100*(y-x)/y), 'percent faster.')"
   ]
  },
  {
   "cell_type": "markdown",
   "metadata": {},
   "source": [
    "#### 30 word queries"
   ]
  },
  {
   "cell_type": "code",
   "execution_count": 19,
   "metadata": {
    "collapsed": false
   },
   "outputs": [
    {
     "name": "stdout",
     "output_type": "stream",
     "text": [
      "- Swhoosh time per query: 48.19 ms\n",
      "- Whoosh time per query: 92.54 ms\n",
      "\n",
      "Swhoosh was 48% percent faster.\n"
     ]
    }
   ],
   "source": [
    "x, y = benchmark_n_query(30, 100)\n",
    "print('\\nSwhoosh was', \"{0:.0f}%\".format(100*(y-x)/y), 'percent faster.')"
   ]
  },
  {
   "cell_type": "markdown",
   "metadata": {},
   "source": [
    "### Index sizes"
   ]
  },
  {
   "cell_type": "markdown",
   "metadata": {},
   "source": [
    "The index created by swhoosh is larger than the one created by whoosh. On TCP-ECCO (170mb uncompressed), whoosh's index is 180mb, whereas swhoosh's index is 222mb. Swoosh does not compressed things as much as it could, which is one of the reasons it runs faster."
   ]
  },
  {
   "cell_type": "code",
   "execution_count": null,
   "metadata": {
    "collapsed": true
   },
   "outputs": [],
   "source": []
  },
  {
   "cell_type": "code",
   "execution_count": null,
   "metadata": {
    "collapsed": true
   },
   "outputs": [],
   "source": []
  }
 ],
 "metadata": {
  "anaconda-cloud": {},
  "kernelspec": {
   "display_name": "Python 3",
   "language": "python",
   "name": "python3"
  },
  "language_info": {
   "codemirror_mode": {
    "name": "ipython",
    "version": 3
   },
   "file_extension": ".py",
   "mimetype": "text/x-python",
   "name": "python",
   "nbconvert_exporter": "python",
   "pygments_lexer": "ipython3",
   "version": "3.5.1"
  }
 },
 "nbformat": 4,
 "nbformat_minor": 1
}
